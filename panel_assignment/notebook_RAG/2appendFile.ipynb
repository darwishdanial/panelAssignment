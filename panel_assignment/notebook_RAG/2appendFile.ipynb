{
 "cells": [
  {
   "cell_type": "code",
   "execution_count": 2,
   "id": "caf070fe",
   "metadata": {},
   "outputs": [],
   "source": [
    "import pandas as pd\n",
    "\n",
    "# Load both Excel files\n",
    "df1 = pd.read_excel(\"../data/interim/merged_panel_project_title_area.xlsx\")\n",
    "df2 = pd.read_excel(\"../data/processed/panel-publications-grants-complete-row-cleaned.xlsx\")\n",
    "\n",
    "# Append df2 to df1\n",
    "combined = pd.concat([df1, df2], ignore_index=True)\n",
    "\n",
    "# Optional: remove duplicates (if needed)\n",
    "# combined = combined.drop_duplicates()\n",
    "\n",
    "# Save to a new file\n",
    "combined.to_excel(\"../data/processed/combined-project-panel.xlsx\", index=False)\n"
   ]
  }
 ],
 "metadata": {
  "kernelspec": {
   "display_name": "venv",
   "language": "python",
   "name": "python3"
  },
  "language_info": {
   "codemirror_mode": {
    "name": "ipython",
    "version": 3
   },
   "file_extension": ".py",
   "mimetype": "text/x-python",
   "name": "python",
   "nbconvert_exporter": "python",
   "pygments_lexer": "ipython3",
   "version": "3.9.7"
  }
 },
 "nbformat": 4,
 "nbformat_minor": 5
}
