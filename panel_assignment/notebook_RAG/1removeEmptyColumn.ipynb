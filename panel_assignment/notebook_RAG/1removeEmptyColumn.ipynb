{
 "cells": [
  {
   "cell_type": "code",
   "execution_count": 1,
   "id": "adc91da1",
   "metadata": {},
   "outputs": [],
   "source": [
    "import pandas as pd\n",
    "\n",
    "# Load the Excel file\n",
    "df = pd.read_excel(\"../data/interim/panel-publications-grants-complete-row.xlsx\")\n",
    "\n",
    "# Drop rows where 'title' is empty or only whitespace\n",
    "df = df[df[\"title\"].notna() & (df[\"title\"].astype(str).str.strip() != \"\")]\n",
    "\n",
    "# Save the cleaned file\n",
    "df.to_excel(\"../data/processed/panel-publications-grants-complete-row-cleaned.xlsx\", index=False)\n"
   ]
  }
 ],
 "metadata": {
  "kernelspec": {
   "display_name": "venv",
   "language": "python",
   "name": "python3"
  },
  "language_info": {
   "codemirror_mode": {
    "name": "ipython",
    "version": 3
   },
   "file_extension": ".py",
   "mimetype": "text/x-python",
   "name": "python",
   "nbconvert_exporter": "python",
   "pygments_lexer": "ipython3",
   "version": "3.9.7"
  }
 },
 "nbformat": 4,
 "nbformat_minor": 5
}
