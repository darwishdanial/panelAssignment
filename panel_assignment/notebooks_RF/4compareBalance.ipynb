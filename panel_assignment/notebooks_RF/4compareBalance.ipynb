{
 "cells": [
  {
   "cell_type": "code",
   "execution_count": 2,
   "id": "21472478",
   "metadata": {},
   "outputs": [
    {
     "name": "stdout",
     "output_type": "stream",
     "text": [
      "      area_encoded  type_encoded  lecturer_encoded\n",
      "0                0             1                 1\n",
      "1                0             1                 2\n",
      "2                1             0                 3\n",
      "3                1             0                 4\n",
      "4                1             0                 5\n",
      "...            ...           ...               ...\n",
      "3170             6             0                81\n",
      "3171             4             1                12\n",
      "3172             4             1                71\n",
      "3173             3             1               106\n",
      "3174             0             1               108\n",
      "\n",
      "[3175 rows x 3 columns]\n"
     ]
    }
   ],
   "source": [
    "import pandas as pd\n",
    "\n",
    "# Load the merged data\n",
    "df = pd.read_excel(\"../data/processed/updated-panel-project.xlsx\")\n",
    "\n",
    "print(df)"
   ]
  },
  {
   "cell_type": "code",
   "execution_count": null,
   "id": "51aa193a",
   "metadata": {},
   "outputs": [],
   "source": [
    "#train using decision tree classifier\n",
    "\n",
    "from sklearn.tree import DecisionTreeClassifier\n",
    "from sklearn.model_selection import train_test_split\n",
    "from sklearn.metrics import classification_report, confusion_matrix\n",
    "\n",
    "X = df[[\"type_encoded\", \"area_encoded\"]]\n",
    "y = df[\"lecturer_encoded\"]\n",
    "\n",
    "# Train-test split (80% train, 20% test)\n",
    "X_train, X_test, y_train, y_test = train_test_split(\n",
    "    X, y, test_size=0.2, random_state=42, stratify=y\n",
    ")\n",
    "\n",
    "modelUnb = DecisionTreeClassifier(random_state=42)\n",
    "modelUnb.fit(X_train, y_train)\n",
    "\n",
    "y_pred_unb = modelUnb.predict(X_test)\n",
    "\n",
    "modelBal = DecisionTreeClassifier(random_state=42, class_weight='balanced')\n",
    "modelBal.fit(X_train, y_train)\n",
    "\n",
    "y_pred_bal = modelBal.predict(X_test)"
   ]
  },
  {
   "cell_type": "code",
   "execution_count": null,
   "id": "dcbfef04",
   "metadata": {},
   "outputs": [],
   "source": [
    "#define custom validation score function\n",
    "\n",
    "from collections import defaultdict\n",
    "\n",
    "def custom_validation_score(X_train, y_train, X_test, y_pred):\n",
    "    \"\"\"\n",
    "    Returns how many predicted lecturers have history with the predicted (area_encoded, type_encoded)\n",
    "    \"\"\"\n",
    "    lecturer_history = defaultdict(set)\n",
    "\n",
    "    # Build history mapping from training data\n",
    "    for i in range(len(X_train)):\n",
    "        area_type = (X_train.iloc[i][\"area_encoded\"], X_train.iloc[i][\"type_encoded\"])\n",
    "        lecturer = y_train.iloc[i]\n",
    "        lecturer_history[lecturer].add(area_type)\n",
    "\n",
    "    # Evaluate predictions\n",
    "    valid_matches = 0\n",
    "    total = len(y_pred)\n",
    "\n",
    "    for i in range(total):\n",
    "        area_type = (X_test.iloc[i][\"area_encoded\"], X_test.iloc[i][\"type_encoded\"])\n",
    "        predicted_lecturer = y_pred[i]\n",
    "\n",
    "        if area_type in lecturer_history[predicted_lecturer]:\n",
    "            valid_matches += 1\n",
    "\n",
    "    accuracy = valid_matches / total\n",
    "    return accuracy\n"
   ]
  },
  {
   "cell_type": "code",
   "execution_count": null,
   "id": "e0a0635e",
   "metadata": {},
   "outputs": [
    {
     "name": "stdout",
     "output_type": "stream",
     "text": [
      "Custom validation score (Unbalanced): 100.00%\n",
      "Custom validation score (Balanced): 100.00%\n"
     ]
    }
   ],
   "source": [
    "#custom validation score\n",
    "\n",
    "score_unb = custom_validation_score(X_train, y_train, X_test, y_pred_unb)\n",
    "score_bal = custom_validation_score(X_train, y_train, X_test, y_pred_bal)\n",
    "\n",
    "print(f\"Custom validation score (Unbalanced): {score_unb:.2%}\")\n",
    "print(f\"Custom validation score (Balanced): {score_bal:.2%}\")\n"
   ]
  },
  {
   "cell_type": "code",
   "execution_count": null,
   "id": "0b96ac81",
   "metadata": {},
   "outputs": [
    {
     "name": "stdout",
     "output_type": "stream",
     "text": [
      "=== Unbalanced Model ===\n",
      "Accuracy: 0.03307086614173228\n",
      "\n",
      "=== Balanced Model ===\n",
      "Accuracy: 0.028346456692913385\n"
     ]
    }
   ],
   "source": [
    "#test with normal metrics\n",
    "\n",
    "from sklearn.metrics import accuracy_score\n",
    "\n",
    "# Unbalanced model\n",
    "print(\"=== Unbalanced Model ===\")\n",
    "print(\"Accuracy:\", accuracy_score(y_test, y_pred_unb))\n",
    "\n",
    "# Balanced model\n",
    "print(\"\\n=== Balanced Model ===\")\n",
    "print(\"Accuracy:\", accuracy_score(y_test, y_pred_bal))"
   ]
  },
  {
   "cell_type": "code",
   "execution_count": 11,
   "id": "0b7ba629",
   "metadata": {},
   "outputs": [],
   "source": [
    "#train using random forest classifier\n",
    "\n",
    "from sklearn.ensemble import RandomForestClassifier\n",
    "\n",
    "# Unbalanced Random Forest\n",
    "rfUnb = RandomForestClassifier(random_state=42)\n",
    "rfUnb.fit(X_train, y_train)\n",
    "y_pred_rf_unb = rfUnb.predict(X_test)\n",
    "\n",
    "# Balanced Random Forest\n",
    "rfBal = RandomForestClassifier(random_state=42, class_weight='balanced')\n",
    "rfBal.fit(X_train, y_train)\n",
    "y_pred_rf_bal = rfBal.predict(X_test)\n"
   ]
  },
  {
   "cell_type": "code",
   "execution_count": 13,
   "id": "a279c383",
   "metadata": {},
   "outputs": [
    {
     "name": "stdout",
     "output_type": "stream",
     "text": [
      "=== Random Forest (Unbalanced) ===\n",
      "Accuracy: 0.03307086614173228\n",
      "\n",
      "=== Random Forest (Balanced) ===\n",
      "Accuracy: 0.026771653543307086\n"
     ]
    }
   ],
   "source": [
    "from sklearn.metrics import accuracy_score, classification_report, confusion_matrix\n",
    "\n",
    "print(\"=== Random Forest (Unbalanced) ===\")\n",
    "print(\"Accuracy:\", accuracy_score(y_test, y_pred_rf_unb))\n",
    "\n",
    "print(\"\\n=== Random Forest (Balanced) ===\")\n",
    "print(\"Accuracy:\", accuracy_score(y_test, y_pred_rf_bal))\n"
   ]
  }
 ],
 "metadata": {
  "kernelspec": {
   "display_name": "venv",
   "language": "python",
   "name": "python3"
  },
  "language_info": {
   "codemirror_mode": {
    "name": "ipython",
    "version": 3
   },
   "file_extension": ".py",
   "mimetype": "text/x-python",
   "name": "python",
   "nbconvert_exporter": "python",
   "pygments_lexer": "ipython3",
   "version": "3.9.7"
  }
 },
 "nbformat": 4,
 "nbformat_minor": 5
}
