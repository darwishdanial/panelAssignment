{
 "cells": [
  {
   "cell_type": "code",
   "execution_count": 1,
   "id": "e7414b9f",
   "metadata": {},
   "outputs": [
    {
     "name": "stderr",
     "output_type": "stream",
     "text": [
      "C:\\Users\\adarw\\AppData\\Local\\Temp\\ipykernel_3912\\2613876835.py:15: LangChainDeprecationWarning: The class `HuggingFaceEmbeddings` was deprecated in LangChain 0.2.2 and will be removed in 1.0. An updated version of the class exists in the :class:`~langchain-huggingface package and should be used instead. To use it run `pip install -U :class:`~langchain-huggingface` and import as `from :class:`~langchain_huggingface import HuggingFaceEmbeddings``.\n",
      "  embedding_model = HuggingFaceEmbeddings(model_name=\"sentence-transformers/all-MiniLM-L6-v2\")\n",
      "c:\\Users\\adarw\\OneDrive\\Documents\\fypagile\\panelAssignment\\venv\\lib\\site-packages\\tqdm\\auto.py:21: TqdmWarning: IProgress not found. Please update jupyter and ipywidgets. See https://ipywidgets.readthedocs.io/en/stable/user_install.html\n",
      "  from .autonotebook import tqdm as notebook_tqdm\n"
     ]
    }
   ],
   "source": [
    "from collections import defaultdict\n",
    "from langchain.vectorstores import FAISS\n",
    "from langchain.embeddings import HuggingFaceEmbeddings\n",
    "from groq import Groq  # Make sure groq SDK is installed: pip install groq\n",
    "from dotenv import load_dotenv\n",
    "import os\n",
    "\n",
    "load_dotenv()  # Load variables from .env\n",
    "api_key = os.getenv(\"GROQ_API_KEY\")\n",
    "\n",
    "# =========================\n",
    "# 🔧 Setup: Embeddings & Vector DB\n",
    "# =========================\n",
    "\n",
    "embedding_model = HuggingFaceEmbeddings(model_name=\"sentence-transformers/all-MiniLM-L6-v2\")\n",
    "db = FAISS.load_local(\"panel_db\", embeddings=embedding_model, allow_dangerous_deserialization=True)"
   ]
  },
  {
   "cell_type": "code",
   "execution_count": 2,
   "id": "028d3292",
   "metadata": {},
   "outputs": [],
   "source": [
    "# =========================\n",
    "# 🔧 Setup: Groq API\n",
    "# =========================\n",
    "\n",
    "client = Groq(api_key=api_key)  # Replace with your key\n",
    "\n",
    "def query_groq_for_panel_selection(panel_matches: dict, student_title: str, student_area: str) -> str:\n",
    "    # Format context for LLM\n",
    "    context = f\"Student Project Title: {student_title}\\nStudent Project Area: {student_area}\\n\\n\"\n",
    "    context += \"Relevant Panel Data:\\n\"\n",
    "\n",
    "    for panel, items in panel_matches.items():\n",
    "        context += f\"\\nPanel {panel}:\\n\"\n",
    "        for item in items:\n",
    "            context += f\"- {item}\\n\"\n",
    "\n",
    "    # Prompt\n",
    "    prompt = f\"\"\"\n",
    "You are an academic panel recommender system. Based on the student’s title and project area, and the matching history (publication, grants, assignments) of each panel, recommend the top 5 most suitable panels and give a short reason for each.\n",
    "\n",
    "{context}\n",
    "\n",
    "Return the result in this format:\n",
    "\n",
    "1. Panel X - Reason\n",
    "2. Panel Y - Reason\n",
    "...\n",
    "\"\"\"\n",
    "\n",
    "    # Query Groq LLM\n",
    "    response = client.chat.completions.create(\n",
    "        model=\"llama3-70b-8192\",\n",
    "        messages=[\n",
    "            {\"role\": \"system\", \"content\": \"You are an intelligent assistant that recommends academic panels based on expertise.\"},\n",
    "            {\"role\": \"user\", \"content\": prompt}\n",
    "        ],\n",
    "        temperature=0.4\n",
    "    )\n",
    "\n",
    "    return response.choices[0].message.content"
   ]
  },
  {
   "cell_type": "code",
   "execution_count": 3,
   "id": "49febe88",
   "metadata": {},
   "outputs": [],
   "source": [
    "# =========================\n",
    "# 🔁 Main Flow Function\n",
    "# =========================\n",
    "\n",
    "def match_student_to_panel(student_title: str, student_area: str) -> str:\n",
    "    query_text = f\"{student_title} - {student_area}\"\n",
    "    query_embedding = embedding_model.embed_query(query_text)\n",
    "\n",
    "    # Search top 10 most similar docs\n",
    "    retrieved_docs = db.similarity_search_by_vector(query_embedding, k=10)\n",
    "\n",
    "    # Group matched documents by panel\n",
    "    panel_matches = defaultdict(list)\n",
    "    for doc in retrieved_docs:\n",
    "        panel = doc.metadata[\"lecturer_name\"]\n",
    "        source = doc.metadata[\"source\"]\n",
    "        panel_matches[panel].append(f\"[{source.upper()}] {doc.page_content}\")\n",
    "\n",
    "    # Get recommendations from Groq\n",
    "    result = query_groq_for_panel_selection(panel_matches, student_title, student_area)\n",
    "    return result"
   ]
  },
  {
   "cell_type": "code",
   "execution_count": 4,
   "id": "41da39ec",
   "metadata": {},
   "outputs": [
    {
     "name": "stdout",
     "output_type": "stream",
     "text": [
      "Based on the student's project title and area, and the matching history of each panel, I recommend the top 5 most suitable panels as follows:\n",
      "\n",
      "1. Panel NOOR HIDAYAH BINTI ZAKARIA - Has experience in both deep learning in healthcare and GANs, with a specific focus on medical image analysis, making her a strong match for this project.\n",
      "\n",
      "2. Panel FARHAN BIN MOHAMED - Has published multiple papers on GANs in medical imaging, including diabetic retinopathy lesions synthesis, which is closely related to the student's project.\n",
      "\n",
      "3. Panel MOHD ADHAM BIN ISA - Has published a paper on a GAN-based data augmentation method for imbalanced multi-class skin lesion classification, which is relevant to the student's project on enhancing medical imaging using GANs.\n",
      "\n",
      "4. Panel BANDER ALI SALEH AL-RIMY - Has published a paper on hierarchical knee image synthesis using GANs, which demonstrates expertise in medical image synthesis using GANs, a key aspect of the student's project.\n",
      "\n",
      "5. Panel HAZA NUZLY BIN ABDULL HAMED - Has co-authored a paper with Panel FARHAN BIN MOHAMED on diabetic retinopathy lesions synthesis using GANs, indicating similar expertise and a potential collaboration opportunity.\n",
      "\n",
      "These panels have demonstrated a strong background in deep learning, GANs, and medical imaging, making them well-suited to provide guidance and expertise to the student on their project.\n"
     ]
    }
   ],
   "source": [
    "student_title = \"Enhancing Medical Imaging using GANs\"\n",
    "student_area = \"Deep Learning in Healthcare\"\n",
    "\n",
    "recommendation = match_student_to_panel(student_title, student_area)\n",
    "print(recommendation)"
   ]
  },
  {
   "cell_type": "code",
   "execution_count": 8,
   "id": "550ade14",
   "metadata": {},
   "outputs": [
    {
     "name": "stdout",
     "output_type": "stream",
     "text": [
      "Based on the student's project title and area, and the matching history of each panel, I recommend the top 5 most suitable panels as follows:\n",
      "\n",
      "1. Panel SHAHIDA SULAIMAN - Has experience in a similar project, TalentIQ - A Smart Recruitment System, which involves AI and web-based systems, making her a suitable panel for the student's AI-powered career recommendation web platform.\n",
      "\n",
      "2. Panel FARKHANA BINTI MUCHTAR - Has experience in a project that involves AI and machine learning development for job seeker-employer connectivity, which is closely related to the student's project, making her a suitable panel.\n",
      "\n",
      "3. Panel JOHAN BIN MOHAMAD SHARIF - Has experience in a project that involves AI-powered recommender systems and web application development, which aligns with the student's project, making him a suitable panel.\n",
      "\n",
      "4. Panel SHAHLIZA BT. ABD. HALIM - Has experience in a similar project, TalentIQ - A Smart Recruitment System, which involves AI and web-based systems, making her a suitable panel for the student's AI-powered career recommendation web platform.\n",
      "\n",
      "5. Panel AHMAD NAJMI BIN AMERHAIDER NUAR - Has published a conceptual framework for a career move recommendation system, which is closely related to the student's project, making him a suitable panel.\n",
      "\n",
      "These panels have demonstrated expertise in AI, web application development, and career recommendation systems, making them well-suited to guide the student's project.\n"
     ]
    }
   ],
   "source": [
    "student_title = \"AI-Powered Career Recommendation Web Platform for Fresh Graduates\"\n",
    "student_area = \"Artificial Intelligence, Web Application Development\"\n",
    " \n",
    "recommendation = match_student_to_panel(student_title, student_area)\n",
    "print(recommendation)\n"
   ]
  },
  {
   "cell_type": "code",
   "execution_count": 9,
   "id": "47d20a79",
   "metadata": {},
   "outputs": [
    {
     "name": "stdout",
     "output_type": "stream",
     "text": [
      "Based on the student's project title and area, and the matching history of each panel, here are the top 5 most suitable panels:\n",
      "\n",
      "1. Panel NOR AZMAN BIN ISMAIL - Has two publications directly related to brain tumor classification using deep learning, making him an expert in the field.\n",
      "2. Panel HUSSEIN SALEM ALI BIN SAMMA - Has a publication on a hybrid deep learning model for brain tumor classification, demonstrating his knowledge in the specific area of the student's project.\n",
      "3. Panel ARAFAT MOHAMMED RASHAD - Co-authored a publication on a novel approach for classifying brain tumors combining a SqueezeNet model with SVM and fine-tuning, which is closely related to the student's project.\n",
      "4. Panel HASLINA BINTI HASHIM - Has a publication on automated brain tumor detection using machine learning and has supervised a final year project on brain stroke classification using deep convolutional neural networks (CNN), showing her expertise in medical imaging and deep learning.\n",
      "5. Panel IZYAN IZZATI BINTI KAMSANI - Has supervised a final year project on brain stroke classification using deep convolutional neural networks (CNN), which is closely related to the student's project, and has likely gained experience in guiding students in this area.\n",
      "\n",
      "These panels have demonstrated a strong background in deep learning, medical imaging, and computer vision, making them well-suited to provide guidance and expertise to the student on their project.\n"
     ]
    }
   ],
   "source": [
    "student_title = \"Brain Tumor Classification Using CNN and MRI Image Analysis\"\n",
    "student_area = \"Deep Learning, Medical Imaging, Computer Vision\"\n",
    " \n",
    "recommendation = match_student_to_panel(student_title, student_area)\n",
    "print(recommendation)"
   ]
  },
  {
   "cell_type": "code",
   "execution_count": 10,
   "id": "ee27baf4",
   "metadata": {},
   "outputs": [
    {
     "name": "stdout",
     "output_type": "stream",
     "text": [
      "Based on the student's project title and area, as well as the matching history of each panel, I recommend the top 5 most suitable panels as follows:\n",
      "\n",
      "1. Panel AHMAD FARIZ BIN ALI - This panel has direct experience with a project involving AES algorithm, which is a key component of the student's project, making them a strong fit.\n",
      "\n",
      "2. Panel MUHALIM BIN MOHAMED AMIN - Similar to Panel AHMAD FARIZ, this panel has experience with a project that involves AES algorithm, increasing the likelihood of a good match.\n",
      "\n",
      "3. Panel FUAD ABDULGALEEL ABDOH GHALEB - This panel has experience with a project that specifically uses AES method for end-to-end encryption, which aligns closely with the student's project goals.\n",
      "\n",
      "4. Panel NORAFIDA BT. ITHNIN - With experience in a project that involves AES method for end-to-end encryption, this panel is well-suited to provide guidance on the student's project.\n",
      "\n",
      "5. Panel MOHD. MURTADHA BIN MOHAMAD - This panel has experience with multiple projects related to file sharing and security, including one that involves cloud-based file storage with strict access control, making them a strong candidate to supervise the student's project.\n",
      "\n",
      "These panels have demonstrated expertise in areas closely related to the student's project, increasing the likelihood of a productive and successful collaboration.\n"
     ]
    }
   ],
   "source": [
    "student_title = \"Secure File Sharing System Using Advanced Encryption Standard (AES)\"\n",
    "student_area = \"Cybersecurity, Data Encryption, Network Security\"\n",
    " \n",
    "recommendation = match_student_to_panel(student_title, student_area)\n",
    "print(recommendation)\n"
   ]
  },
  {
   "cell_type": "code",
   "execution_count": 11,
   "id": "6cd9c112",
   "metadata": {},
   "outputs": [
    {
     "name": "stdout",
     "output_type": "stream",
     "text": [
      "Based on the student's project title and area, and the matching history of each panel, here are the top 5 most suitable panels:\n",
      "\n",
      "1. Panel JUMAIL BIN TALIBA - The panel has a grant related to real-time character motion control, which aligns closely with the student's project on real-time 3D character animation using skeletal rigging.\n",
      "\n",
      "2. Panel AHMAD FARIZ BIN ALI - The panel has a publication related to 3D object manipulation using speech and hand gesture, which shares similarities with the student's project in terms of 3D animation and real-time rendering.\n",
      "\n",
      "3. Panel MD. SAH BIN HJ. SALAM - The panel has a publication related to 3D object manipulation using speech and hand gesture, which shares similarities with the student's project in terms of 3D animation and real-time rendering.\n",
      "\n",
      "4. Panel SARINA BINTI SULAIMAN - The panel has experience with a FYP panel assignment on custom 3D character modeling application in augmented reality, which is closely related to the student's project on 3D character animation using OpenGL and skeletal rigging.\n",
      "\n",
      "5. Panel SHAFAATUNNUR BINTI HASSAN - The panel has experience with a FYP panel assignment on custom 3D character modeling application in augmented reality, which is closely related to the student's project on 3D character animation using OpenGL and skeletal rigging.\n",
      "\n",
      "These panels have demonstrated expertise in areas closely related to the student's project, such as real-time character animation, 3D object manipulation, and character modeling in augmented reality.\n"
     ]
    }
   ],
   "source": [
    "student_title = \"Real-Time 3D Character Animation Using OpenGL and Skeletal Rigging\"\n",
    "student_area = \"Computer Graphics, 3D Animation, Real-Time Rendering\"\n",
    " \n",
    "recommendation = match_student_to_panel(student_title, student_area)\n",
    "print(recommendation)\n"
   ]
  }
 ],
 "metadata": {
  "kernelspec": {
   "display_name": "venv",
   "language": "python",
   "name": "python3"
  },
  "language_info": {
   "codemirror_mode": {
    "name": "ipython",
    "version": 3
   },
   "file_extension": ".py",
   "mimetype": "text/x-python",
   "name": "python",
   "nbconvert_exporter": "python",
   "pygments_lexer": "ipython3",
   "version": "3.9.7"
  }
 },
 "nbformat": 4,
 "nbformat_minor": 5
}
