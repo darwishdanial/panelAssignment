{
 "cells": [
  {
   "cell_type": "code",
   "execution_count": 9,
   "id": "bde1c7ae",
   "metadata": {},
   "outputs": [],
   "source": [
    "import pandas as pd\n",
    "from langchain.vectorstores import FAISS\n",
    "from langchain_huggingface import HuggingFaceEmbeddings\n",
    "from langchain.docstore.document import Document\n",
    "\n",
    "# ✅ Step 1: Read Excel\n",
    "df = pd.read_excel(\"../../data/processed/combined-project-panel.xlsx\")"
   ]
  },
  {
   "cell_type": "code",
   "execution_count": 10,
   "id": "39b5aead",
   "metadata": {},
   "outputs": [],
   "source": [
    "# Optional: clean & validate\n",
    "df = df.dropna(subset=[\"lecturer_name\", \"title\", \"source\"])\n",
    "df[\"lecturer_name\"] = df[\"lecturer_name\"].str.strip()\n",
    "df[\"title\"] = df[\"title\"].str.strip()\n",
    "df[\"source\"] = df[\"source\"].str.strip()"
   ]
  },
  {
   "cell_type": "code",
   "execution_count": 11,
   "id": "6635f8e8",
   "metadata": {},
   "outputs": [],
   "source": [
    "# ✅ Step 2: Prepare LangChain Documents\n",
    "docs = []\n",
    "for _, row in df.iterrows():\n",
    "    doc = Document(\n",
    "        page_content=row[\"title\"],\n",
    "        metadata={\n",
    "            \"lecturer_name\": row[\"lecturer_name\"],\n",
    "            \"source\": row[\"source\"]\n",
    "        }\n",
    "    )\n",
    "    docs.append(doc)"
   ]
  },
  {
   "cell_type": "code",
   "execution_count": 14,
   "id": "5c517cf8",
   "metadata": {},
   "outputs": [
    {
     "name": "stderr",
     "output_type": "stream",
     "text": [
      "c:\\Users\\adarw\\OneDrive\\Documents\\fypagile\\panelAssignment\\venv\\lib\\site-packages\\tqdm\\auto.py:21: TqdmWarning: IProgress not found. Please update jupyter and ipywidgets. See https://ipywidgets.readthedocs.io/en/stable/user_install.html\n",
      "  from .autonotebook import tqdm as notebook_tqdm\n",
      "c:\\Users\\adarw\\OneDrive\\Documents\\fypagile\\panelAssignment\\venv\\lib\\site-packages\\huggingface_hub\\file_download.py:143: UserWarning: `huggingface_hub` cache-system uses symlinks by default to efficiently store duplicated files but your machine does not support them in C:\\Users\\adarw\\.cache\\huggingface\\hub\\models--sentence-transformers--all-MiniLM-L6-v2. Caching files will still work but in a degraded version that might require more space on your disk. This warning can be disabled by setting the `HF_HUB_DISABLE_SYMLINKS_WARNING` environment variable. For more details, see https://huggingface.co/docs/huggingface_hub/how-to-cache#limitations.\n",
      "To support symlinks on Windows, you either need to activate Developer Mode or to run Python as an administrator. In order to activate developer mode, see this article: https://docs.microsoft.com/en-us/windows/apps/get-started/enable-your-device-for-development\n",
      "  warnings.warn(message)\n",
      "Xet Storage is enabled for this repo, but the 'hf_xet' package is not installed. Falling back to regular HTTP download. For better performance, install the package with: `pip install huggingface_hub[hf_xet]` or `pip install hf_xet`\n"
     ]
    }
   ],
   "source": [
    "# ✅ Step 3: Generate Embeddings & Save to FAISS\n",
    "embedding_model = HuggingFaceEmbeddings(model_name=\"sentence-transformers/all-MiniLM-L6-v2\")\n",
    "db = FAISS.from_documents(docs, embedding_model)\n",
    "db.save_local(\"panel_db\")  # This creates panel_db/index.faiss and panel_db/index.pkl"
   ]
  }
 ],
 "metadata": {
  "kernelspec": {
   "display_name": "venv",
   "language": "python",
   "name": "python3"
  },
  "language_info": {
   "codemirror_mode": {
    "name": "ipython",
    "version": 3
   },
   "file_extension": ".py",
   "mimetype": "text/x-python",
   "name": "python",
   "nbconvert_exporter": "python",
   "pygments_lexer": "ipython3",
   "version": "3.9.7"
  }
 },
 "nbformat": 4,
 "nbformat_minor": 5
}
