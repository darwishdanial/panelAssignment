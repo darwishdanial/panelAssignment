{
 "cells": [
  {
   "cell_type": "code",
   "execution_count": 1,
   "id": "292d48bc",
   "metadata": {},
   "outputs": [
    {
     "name": "stdout",
     "output_type": "stream",
     "text": [
      "      area_encoded  type_encoded  lecturer_encoded\n",
      "0                0             1                 1\n",
      "1                0             1                 2\n",
      "2                1             0                 3\n",
      "3                1             0                 4\n",
      "4                1             0                 5\n",
      "...            ...           ...               ...\n",
      "3170             6             0                81\n",
      "3171             4             1                12\n",
      "3172             4             1                71\n",
      "3173             3             1               106\n",
      "3174             0             1               108\n",
      "\n",
      "[3175 rows x 3 columns]\n"
     ]
    }
   ],
   "source": [
    "import pandas as pd\n",
    "\n",
    "# Load the merged data\n",
    "df = pd.read_excel(\"../data/processed/updated-panel-project.xlsx\")\n",
    "\n",
    "print(df)"
   ]
  },
  {
   "cell_type": "code",
   "execution_count": null,
   "id": "a73b9280",
   "metadata": {},
   "outputs": [],
   "source": [
    "from sklearn.model_selection import train_test_split\n",
    "from sklearn.tree import DecisionTreeClassifier\n",
    "from sklearn.ensemble import RandomForestClassifier\n",
    "from sklearn.linear_model import LogisticRegression\n",
    "from sklearn.neighbors import KNeighborsClassifier\n",
    "from sklearn.naive_bayes import GaussianNB\n",
    "from xgboost import XGBClassifier\n",
    "from sklearn.metrics import accuracy_score\n",
    "from collections import defaultdict\n",
    "\n",
    "def train_and_evaluate_models(df):\n",
    "    X = df[[\"type_encoded\", \"area_encoded\"]]\n",
    "    y = df[\"lecturer_encoded\"]\n",
    "\n",
    "    # Split dataset\n",
    "    X_train, X_test, y_train, y_test = train_test_split(\n",
    "        X, y, test_size=0.2, stratify=y, random_state=42\n",
    "    )\n",
    "\n",
    "    # Lecturer history mapping for custom metric\n",
    "    lecturer_history = defaultdict(set)\n",
    "    for i in range(len(X_train)):\n",
    "        area_type = (X_train.iloc[i][\"area_encoded\"], X_train.iloc[i][\"type_encoded\"])\n",
    "        lecturer = y_train.iloc[i]\n",
    "        lecturer_history[lecturer].add(area_type)\n",
    "\n",
    "    def custom_metric(y_pred, X_test):\n",
    "        valid_matches = 0\n",
    "        for i in range(len(y_pred)):\n",
    "            area_type = (X_test.iloc[i][\"area_encoded\"], X_test.iloc[i][\"type_encoded\"])\n",
    "            predicted_lecturer = y_pred[i]\n",
    "            if area_type in lecturer_history[predicted_lecturer]:\n",
    "                valid_matches += 1\n",
    "        return valid_matches / len(y_pred)\n",
    "\n",
    "    models = {\n",
    "        \"Decision Tree\": DecisionTreeClassifier(random_state=42),\n",
    "        \"Random Forest\": RandomForestClassifier(random_state=42),\n",
    "        \"Logistic Regression\": LogisticRegression(max_iter=1000),\n",
    "        \"k-NN\": KNeighborsClassifier(n_neighbors=5),\n",
    "        \"Naive Bayes\": GaussianNB(),\n",
    "    }\n",
    "\n",
    "    for name, model in models.items():\n",
    "        model.fit(X_train, y_train)\n",
    "        y_pred = model.predict(X_test)\n",
    "\n",
    "        acc = accuracy_score(y_test, y_pred)\n",
    "        match_ratio = custom_metric(y_pred, X_test)\n",
    "\n",
    "        print(f\"\\n=== {name} ===\")\n",
    "        print(f\"Accuracy: {acc:.4f}\")\n",
    "        print(f\"Valid History Match Ratio: {match_ratio:.4f}\")\n"
   ]
  },
  {
   "cell_type": "code",
   "execution_count": 5,
   "id": "21bed74b",
   "metadata": {},
   "outputs": [
    {
     "name": "stdout",
     "output_type": "stream",
     "text": [
      "\n",
      "=== Decision Tree ===\n",
      "Accuracy: 0.0331\n",
      "Valid History Match Ratio: 1.0000\n",
      "\n",
      "=== Random Forest ===\n",
      "Accuracy: 0.0331\n",
      "Valid History Match Ratio: 1.0000\n",
      "\n",
      "=== Logistic Regression ===\n",
      "Accuracy: 0.0220\n",
      "Valid History Match Ratio: 0.7827\n",
      "\n",
      "=== k-NN ===\n",
      "Accuracy: 0.0409\n",
      "Valid History Match Ratio: 0.9984\n",
      "\n",
      "=== Naive Bayes ===\n",
      "Accuracy: 0.0142\n",
      "Valid History Match Ratio: 0.5559\n"
     ]
    }
   ],
   "source": [
    "train_and_evaluate_models(df)"
   ]
  }
 ],
 "metadata": {
  "kernelspec": {
   "display_name": "venv",
   "language": "python",
   "name": "python3"
  },
  "language_info": {
   "codemirror_mode": {
    "name": "ipython",
    "version": 3
   },
   "file_extension": ".py",
   "mimetype": "text/x-python",
   "name": "python",
   "nbconvert_exporter": "python",
   "pygments_lexer": "ipython3",
   "version": "3.9.7"
  }
 },
 "nbformat": 4,
 "nbformat_minor": 5
}
