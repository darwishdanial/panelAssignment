{
 "cells": [
  {
   "cell_type": "code",
   "execution_count": 15,
   "id": "2e78941a",
   "metadata": {},
   "outputs": [],
   "source": [
    "def compare_excel_files(file1_path, file2_path):\n",
    "    import pandas as pd\n",
    "\n",
    "    try:\n",
    "        df1 = pd.read_excel(file1_path)\n",
    "        df2 = pd.read_excel(file2_path)\n",
    "\n",
    "        # Clean column names (remove trailing/leading spaces)\n",
    "        df1.columns = df1.columns.str.strip()\n",
    "        df2.columns = df2.columns.str.strip()\n",
    "\n",
    "        # Sort and reset index\n",
    "        df1 = df1.sort_index(axis=1).reset_index(drop=True)\n",
    "        df2 = df2.sort_index(axis=1).reset_index(drop=True)\n",
    "\n",
    "        # Align column order\n",
    "        common_cols = sorted(set(df1.columns).intersection(df2.columns))\n",
    "        df1 = df1[common_cols]\n",
    "        df2 = df2[common_cols]\n",
    "\n",
    "        if df1.shape != df2.shape:\n",
    "            print(\"❌ Files have different shapes:\")\n",
    "            print(f\"- {file1_path}: {df1.shape}\")\n",
    "            print(f\"- {file2_path}: {df2.shape}\")\n",
    "            return\n",
    "\n",
    "        differences = df1.compare(df2, keep_shape=True, keep_equal=False)\n",
    "        differences = differences.dropna(how=\"all\")\n",
    "\n",
    "        if differences.empty:\n",
    "            print(\"✅ No differences found. Files are identical in the shared columns.\")\n",
    "        else:\n",
    "            print(\"⚠️ Differences found in the following rows:\")\n",
    "            print(differences)\n",
    "\n",
    "    except Exception as e:\n",
    "        print(f\"❌ Error comparing files: {e}\")\n"
   ]
  },
  {
   "cell_type": "code",
   "execution_count": 16,
   "id": "09996573",
   "metadata": {},
   "outputs": [
    {
     "name": "stdout",
     "output_type": "stream",
     "text": [
      "✅ No differences found. Files are identical in the shared columns.\n"
     ]
    }
   ],
   "source": [
    "compare_excel_files(\"../data/processed/panel-list-ml.xlsx\", \"../data/processed/panel-list-system.xlsx\")"
   ]
  },
  {
   "cell_type": "code",
   "execution_count": 19,
   "id": "2ff85d93",
   "metadata": {},
   "outputs": [
    {
     "name": "stdout",
     "output_type": "stream",
     "text": [
      "✅ No differences found. Files are identical in the shared columns.\n"
     ]
    }
   ],
   "source": [
    "compare_excel_files(\"../data/processed/project-area-list-ml.xlsx\", \"../data/processed/project-area-list-system.xlsx\")"
   ]
  }
 ],
 "metadata": {
  "kernelspec": {
   "display_name": "venv",
   "language": "python",
   "name": "python3"
  },
  "language_info": {
   "codemirror_mode": {
    "name": "ipython",
    "version": 3
   },
   "file_extension": ".py",
   "mimetype": "text/x-python",
   "name": "python",
   "nbconvert_exporter": "python",
   "pygments_lexer": "ipython3",
   "version": "3.9.7"
  }
 },
 "nbformat": 4,
 "nbformat_minor": 5
}
