{
 "cells": [
  {
   "cell_type": "code",
   "execution_count": 1,
   "id": "fabe7a29",
   "metadata": {},
   "outputs": [
    {
     "name": "stdout",
     "output_type": "stream",
     "text": [
      "      area_encoded  type_encoded  lecturer_encoded\n",
      "0                0             1                 1\n",
      "1                0             1                 2\n",
      "2                1             0                 3\n",
      "3                1             0                 4\n",
      "4                1             0                 5\n",
      "...            ...           ...               ...\n",
      "3170             6             0                81\n",
      "3171             4             1                12\n",
      "3172             4             1                71\n",
      "3173             3             1               106\n",
      "3174             0             1               108\n",
      "\n",
      "[3175 rows x 3 columns]\n"
     ]
    }
   ],
   "source": [
    "import pandas as pd\n",
    "\n",
    "# Load the merged data\n",
    "df = pd.read_excel(\"../data/processed/updated-panel-project.xlsx\")\n",
    "\n",
    "print(df)"
   ]
  },
  {
   "cell_type": "code",
   "execution_count": 2,
   "id": "8fb05bef",
   "metadata": {},
   "outputs": [
    {
     "name": "stdout",
     "output_type": "stream",
     "text": [
      "✅ Model trained and saved in 'model/panel_model.joblib'\n"
     ]
    }
   ],
   "source": [
    "from sklearn.ensemble import RandomForestClassifier\n",
    "import joblib\n",
    "\n",
    "# Select input features and target\n",
    "X = df[[\"type_encoded\", \"area_encoded\"]]\n",
    "y = df[\"lecturer_encoded\"]\n",
    "\n",
    "# Train the Random Forest model with class_weight='balanced'\n",
    "model = RandomForestClassifier(n_estimators=10, random_state=20, max_leaf_nodes=15)\n",
    "model.fit(X, y)\n",
    "\n",
    "# Save the trained model to the 'model' folder\n",
    "joblib.dump(model, '../model/panel_model.joblib')\n",
    "\n",
    "print(\"✅ Model trained and saved in 'model/panel_model.joblib'\")"
   ]
  }
 ],
 "metadata": {
  "kernelspec": {
   "display_name": "venv",
   "language": "python",
   "name": "python3"
  },
  "language_info": {
   "codemirror_mode": {
    "name": "ipython",
    "version": 3
   },
   "file_extension": ".py",
   "mimetype": "text/x-python",
   "name": "python",
   "nbconvert_exporter": "python",
   "pygments_lexer": "ipython3",
   "version": "3.9.7"
  }
 },
 "nbformat": 4,
 "nbformat_minor": 5
}
